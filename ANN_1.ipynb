{
  "nbformat": 4,
  "nbformat_minor": 0,
  "metadata": {
    "colab": {
      "provenance": [],
      "authorship_tag": "ABX9TyOQow310+zwy4ZVIcaSFxl3",
      "include_colab_link": true
    },
    "kernelspec": {
      "name": "python3",
      "display_name": "Python 3"
    },
    "language_info": {
      "name": "python"
    }
  },
  "cells": [
    {
      "cell_type": "markdown",
      "metadata": {
        "id": "view-in-github",
        "colab_type": "text"
      },
      "source": [
        "<a href=\"https://colab.research.google.com/github/MohammedOwes123/ML-Lab/blob/main/ANN_1.ipynb\" target=\"_parent\"><img src=\"https://colab.research.google.com/assets/colab-badge.svg\" alt=\"Open In Colab\"/></a>"
      ]
    },
    {
      "cell_type": "code",
      "execution_count": 1,
      "metadata": {
        "id": "lobf38d4CYSf"
      },
      "outputs": [],
      "source": [
        "import numpy as np\n",
        "x = np.array(([2,9],[1,5],[3,6]),dtype = float)\n",
        "y = np.array(([92],[86],[89]),dtype = float)\n",
        "\n",
        "x = x/np.amax(x,axis=0)\n",
        "y = y/100"
      ]
    },
    {
      "cell_type": "code",
      "source": [
        "#Varialble Initialization\n",
        "epoch = 5000\n",
        "lr = 0.1\n",
        "inputlayer_neurons = 2\n",
        "hiddenlayer_neurons = 3\n",
        "output_neurons = 1"
      ],
      "metadata": {
        "id": "ed3pNlvlDyvy"
      },
      "execution_count": 2,
      "outputs": []
    },
    {
      "cell_type": "code",
      "source": [
        "# weight and bias Initialization\n",
        "\n",
        "wh = np.random.uniform(size=(inputlayer_neurons,hiddenlayer_neurons))\n",
        "bh = np.random.uniform(size=(1,hiddenlayer_neurons))\n",
        "wout = np.random.uniform(size=(hiddenlayer_neurons,output_neurons))\n",
        "bout = np.random.uniform(size=(1,output_neurons))"
      ],
      "metadata": {
        "id": "1n29xftID1Aa"
      },
      "execution_count": 3,
      "outputs": []
    },
    {
      "cell_type": "code",
      "source": [
        "#sigmoid function\n",
        "\n",
        "def sigmoid(x):\n",
        "  return 1/(1+np.exp(-x))\n",
        "\n",
        "# Derivative of Sigmoid\n",
        "\n",
        "def der_sigmoid(x):\n",
        "  return x*(1-x)\n"
      ],
      "metadata": {
        "id": "1WU2pXD1D6Fa"
      },
      "execution_count": 4,
      "outputs": []
    },
    {
      "cell_type": "code",
      "source": [
        "# Draws a random range of numbers uniformly of dim x*y\n",
        "\n",
        "for i in range(epoch):\n",
        "\n",
        "  # forward propagation\n",
        "  hinp1 = np.dot(x,wh)\n",
        "  hinp = hinp1 + bh\n",
        "  hlayer_act = sigmoid(hinp)\n",
        "  outinp1 = np.dot(hlayer_act,wout)\n",
        "  outinp = outinp1 + bout\n",
        "  output = sigmoid(outinp)\n",
        "\n",
        "  # Backpropagation\n",
        "  EO = y - output\n",
        "  outgrad = der_sigmoid(output)\n",
        "  d_output = EO*outgrad\n",
        "  EH = d_output.dot(wout.T)"
      ],
      "metadata": {
        "id": "L_q8b8-yD9gR"
      },
      "execution_count": 5,
      "outputs": []
    },
    {
      "cell_type": "code",
      "source": [
        "# how much hidden layer weights contributed to error\n",
        "\n",
        "hiddengrad = der_sigmoid(hlayer_act)\n",
        "d_hiddenlayer = EH*hiddengrad\n",
        "\n",
        "#dotproduct of nextlayererror and current layer op\n",
        "\n",
        "wout += hlayer_act.T.dot(d_output)*lr\n",
        "wh += x.T.dot(d_hiddenlayer)*lr\n",
        "\n",
        "print(\"Input: \\n\" + str(x))\n",
        "print(\"Actual output: \\n\" + str(y))\n",
        "print(\"Predicted Output: \\n\",output)"
      ],
      "metadata": {
        "colab": {
          "base_uri": "https://localhost:8080/"
        },
        "id": "uD7t0pWyEAz5",
        "outputId": "6c08e3b7-0019-4b9d-eff6-e78cc6662fde"
      },
      "execution_count": 6,
      "outputs": [
        {
          "output_type": "stream",
          "name": "stdout",
          "text": [
            "Input: \n",
            "[[0.66666667 1.        ]\n",
            " [0.33333333 0.55555556]\n",
            " [1.         0.66666667]]\n",
            "Actual output: \n",
            "[[0.92]\n",
            " [0.86]\n",
            " [0.89]]\n",
            "Predicted Output: \n",
            " [[0.67630376]\n",
            " [0.67291981]\n",
            " [0.67713984]]\n"
          ]
        }
      ]
    }
  ]
}